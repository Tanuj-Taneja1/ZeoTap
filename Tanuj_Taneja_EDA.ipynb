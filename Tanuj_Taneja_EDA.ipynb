{
 "cells": [
  {
   "cell_type": "code",
   "execution_count": 1,
   "id": "351605ec",
   "metadata": {
    "_cell_guid": "2b6b3a78-ceb7-48ac-a308-93f57d1eec75",
    "_uuid": "ee1f259f-e831-4637-8378-572c61135dda",
    "collapsed": false,
    "execution": {
     "iopub.execute_input": "2025-02-02T12:46:29.670746Z",
     "iopub.status.busy": "2025-02-02T12:46:29.670272Z",
     "iopub.status.idle": "2025-02-02T12:46:30.976487Z",
     "shell.execute_reply": "2025-02-02T12:46:30.974595Z"
    },
    "jupyter": {
     "outputs_hidden": false
    },
    "papermill": {
     "duration": 1.320332,
     "end_time": "2025-02-02T12:46:30.979040",
     "exception": false,
     "start_time": "2025-02-02T12:46:29.658708",
     "status": "completed"
    },
    "tags": []
   },
   "outputs": [
    {
     "name": "stdout",
     "output_type": "stream",
     "text": [
      "/kaggle/input/zeotape/Products.csv\n",
      "/kaggle/input/zeotape/Customers.csv\n",
      "/kaggle/input/zeotape/Transactions.csv\n"
     ]
    }
   ],
   "source": [
    "# This Python 3 environment comes with many helpful analytics libraries installed\n",
    "# It is defined by the kaggle/python Docker image: https://github.com/kaggle/docker-python\n",
    "# For example, here's several helpful packages to load\n",
    "\n",
    "import numpy as np # linear algebra\n",
    "import pandas as pd # data processing, CSV file I/O (e.g. pd.read_csv)\n",
    "\n",
    "# Input data files are available in the read-only \"../input/\" directory\n",
    "# For example, running this (by clicking run or pressing Shift+Enter) will list all files under the input directory\n",
    "\n",
    "import os\n",
    "for dirname, _, filenames in os.walk('/kaggle/input'):\n",
    "    for filename in filenames:\n",
    "        print(os.path.join(dirname, filename))\n",
    "\n",
    "# You can write up to 20GB to the current directory (/kaggle/working/) that gets preserved as output when you create a version using \"Save & Run All\" \n",
    "# You can also write temporary files to /kaggle/temp/, but they won't be saved outside of the current session"
   ]
  },
  {
   "cell_type": "code",
   "execution_count": 2,
   "id": "f2bd73b6",
   "metadata": {
    "_cell_guid": "1dc081c1-460a-450f-8b66-a82a3ebe4e13",
    "_uuid": "3915dae4-a6bf-465f-824b-7424179cd22b",
    "collapsed": false,
    "execution": {
     "iopub.execute_input": "2025-02-02T12:46:31.000654Z",
     "iopub.status.busy": "2025-02-02T12:46:31.000044Z",
     "iopub.status.idle": "2025-02-02T12:46:32.901710Z",
     "shell.execute_reply": "2025-02-02T12:46:32.900699Z"
    },
    "jupyter": {
     "outputs_hidden": false
    },
    "papermill": {
     "duration": 1.914889,
     "end_time": "2025-02-02T12:46:32.903669",
     "exception": false,
     "start_time": "2025-02-02T12:46:30.988780",
     "status": "completed"
    },
    "tags": []
   },
   "outputs": [],
   "source": [
    "import matplotlib.pyplot as plt\n",
    "import seaborn as sns"
   ]
  },
  {
   "cell_type": "markdown",
   "id": "795f6400",
   "metadata": {
    "_cell_guid": "94ab08f0-82bc-4df7-a0cd-3461736dcc11",
    "_uuid": "9e665e1c-7266-4db1-bb0d-82c6f1f7280b",
    "collapsed": false,
    "jupyter": {
     "outputs_hidden": false
    },
    "papermill": {
     "duration": 0.008546,
     "end_time": "2025-02-02T12:46:32.921292",
     "exception": false,
     "start_time": "2025-02-02T12:46:32.912746",
     "status": "completed"
    },
    "tags": []
   },
   "source": [
    "# Data load"
   ]
  },
  {
   "cell_type": "code",
   "execution_count": 3,
   "id": "306b90b9",
   "metadata": {
    "_cell_guid": "83a35bcb-f89f-468d-9c22-4a301e7f691e",
    "_uuid": "a0fb1bcf-7321-4740-b27d-472bce17a638",
    "collapsed": false,
    "execution": {
     "iopub.execute_input": "2025-02-02T12:46:32.940414Z",
     "iopub.status.busy": "2025-02-02T12:46:32.939807Z",
     "iopub.status.idle": "2025-02-02T12:46:32.971279Z",
     "shell.execute_reply": "2025-02-02T12:46:32.970258Z"
    },
    "jupyter": {
     "outputs_hidden": false
    },
    "papermill": {
     "duration": 0.043109,
     "end_time": "2025-02-02T12:46:32.973196",
     "exception": false,
     "start_time": "2025-02-02T12:46:32.930087",
     "status": "completed"
    },
    "tags": []
   },
   "outputs": [],
   "source": [
    "customers = pd.read_csv(\"/kaggle/input/zeotape/Customers.csv\")\n",
    "products = pd.read_csv(\"/kaggle/input/zeotape/Products.csv\")\n",
    "transactions = pd.read_csv(\"/kaggle/input/zeotape/Transactions.csv\")"
   ]
  },
  {
   "cell_type": "code",
   "execution_count": 4,
   "id": "40e860a0",
   "metadata": {
    "_cell_guid": "69c681b4-9bb6-4e01-9070-3b8b2fb30cc9",
    "_uuid": "62e902c4-541d-4ab8-b3aa-19c9ce70e15b",
    "collapsed": false,
    "execution": {
     "iopub.execute_input": "2025-02-02T12:46:32.992160Z",
     "iopub.status.busy": "2025-02-02T12:46:32.991808Z",
     "iopub.status.idle": "2025-02-02T12:46:33.034360Z",
     "shell.execute_reply": "2025-02-02T12:46:33.033220Z"
    },
    "jupyter": {
     "outputs_hidden": false
    },
    "papermill": {
     "duration": 0.053896,
     "end_time": "2025-02-02T12:46:33.036099",
     "exception": false,
     "start_time": "2025-02-02T12:46:32.982203",
     "status": "completed"
    },
    "tags": []
   },
   "outputs": [
    {
     "name": "stdout",
     "output_type": "stream",
     "text": [
      "Customers\n"
     ]
    },
    {
     "data": {
      "text/html": [
       "<div>\n",
       "<style scoped>\n",
       "    .dataframe tbody tr th:only-of-type {\n",
       "        vertical-align: middle;\n",
       "    }\n",
       "\n",
       "    .dataframe tbody tr th {\n",
       "        vertical-align: top;\n",
       "    }\n",
       "\n",
       "    .dataframe thead th {\n",
       "        text-align: right;\n",
       "    }\n",
       "</style>\n",
       "<table border=\"1\" class=\"dataframe\">\n",
       "  <thead>\n",
       "    <tr style=\"text-align: right;\">\n",
       "      <th></th>\n",
       "      <th>CustomerID</th>\n",
       "      <th>CustomerName</th>\n",
       "      <th>Region</th>\n",
       "      <th>SignupDate</th>\n",
       "    </tr>\n",
       "  </thead>\n",
       "  <tbody>\n",
       "    <tr>\n",
       "      <th>0</th>\n",
       "      <td>C0001</td>\n",
       "      <td>Lawrence Carroll</td>\n",
       "      <td>South America</td>\n",
       "      <td>2022-07-10</td>\n",
       "    </tr>\n",
       "    <tr>\n",
       "      <th>1</th>\n",
       "      <td>C0002</td>\n",
       "      <td>Elizabeth Lutz</td>\n",
       "      <td>Asia</td>\n",
       "      <td>2022-02-13</td>\n",
       "    </tr>\n",
       "    <tr>\n",
       "      <th>2</th>\n",
       "      <td>C0003</td>\n",
       "      <td>Michael Rivera</td>\n",
       "      <td>South America</td>\n",
       "      <td>2024-03-07</td>\n",
       "    </tr>\n",
       "    <tr>\n",
       "      <th>3</th>\n",
       "      <td>C0004</td>\n",
       "      <td>Kathleen Rodriguez</td>\n",
       "      <td>South America</td>\n",
       "      <td>2022-10-09</td>\n",
       "    </tr>\n",
       "    <tr>\n",
       "      <th>4</th>\n",
       "      <td>C0005</td>\n",
       "      <td>Laura Weber</td>\n",
       "      <td>Asia</td>\n",
       "      <td>2022-08-15</td>\n",
       "    </tr>\n",
       "  </tbody>\n",
       "</table>\n",
       "</div>"
      ],
      "text/plain": [
       "  CustomerID        CustomerName         Region  SignupDate\n",
       "0      C0001    Lawrence Carroll  South America  2022-07-10\n",
       "1      C0002      Elizabeth Lutz           Asia  2022-02-13\n",
       "2      C0003      Michael Rivera  South America  2024-03-07\n",
       "3      C0004  Kathleen Rodriguez  South America  2022-10-09\n",
       "4      C0005         Laura Weber           Asia  2022-08-15"
      ]
     },
     "metadata": {},
     "output_type": "display_data"
    },
    {
     "name": "stdout",
     "output_type": "stream",
     "text": [
      "Products\n"
     ]
    },
    {
     "data": {
      "text/html": [
       "<div>\n",
       "<style scoped>\n",
       "    .dataframe tbody tr th:only-of-type {\n",
       "        vertical-align: middle;\n",
       "    }\n",
       "\n",
       "    .dataframe tbody tr th {\n",
       "        vertical-align: top;\n",
       "    }\n",
       "\n",
       "    .dataframe thead th {\n",
       "        text-align: right;\n",
       "    }\n",
       "</style>\n",
       "<table border=\"1\" class=\"dataframe\">\n",
       "  <thead>\n",
       "    <tr style=\"text-align: right;\">\n",
       "      <th></th>\n",
       "      <th>ProductID</th>\n",
       "      <th>ProductName</th>\n",
       "      <th>Category</th>\n",
       "      <th>Price</th>\n",
       "    </tr>\n",
       "  </thead>\n",
       "  <tbody>\n",
       "    <tr>\n",
       "      <th>0</th>\n",
       "      <td>P001</td>\n",
       "      <td>ActiveWear Biography</td>\n",
       "      <td>Books</td>\n",
       "      <td>169.30</td>\n",
       "    </tr>\n",
       "    <tr>\n",
       "      <th>1</th>\n",
       "      <td>P002</td>\n",
       "      <td>ActiveWear Smartwatch</td>\n",
       "      <td>Electronics</td>\n",
       "      <td>346.30</td>\n",
       "    </tr>\n",
       "    <tr>\n",
       "      <th>2</th>\n",
       "      <td>P003</td>\n",
       "      <td>ComfortLiving Biography</td>\n",
       "      <td>Books</td>\n",
       "      <td>44.12</td>\n",
       "    </tr>\n",
       "    <tr>\n",
       "      <th>3</th>\n",
       "      <td>P004</td>\n",
       "      <td>BookWorld Rug</td>\n",
       "      <td>Home Decor</td>\n",
       "      <td>95.69</td>\n",
       "    </tr>\n",
       "    <tr>\n",
       "      <th>4</th>\n",
       "      <td>P005</td>\n",
       "      <td>TechPro T-Shirt</td>\n",
       "      <td>Clothing</td>\n",
       "      <td>429.31</td>\n",
       "    </tr>\n",
       "  </tbody>\n",
       "</table>\n",
       "</div>"
      ],
      "text/plain": [
       "  ProductID              ProductName     Category   Price\n",
       "0      P001     ActiveWear Biography        Books  169.30\n",
       "1      P002    ActiveWear Smartwatch  Electronics  346.30\n",
       "2      P003  ComfortLiving Biography        Books   44.12\n",
       "3      P004            BookWorld Rug   Home Decor   95.69\n",
       "4      P005          TechPro T-Shirt     Clothing  429.31"
      ]
     },
     "metadata": {},
     "output_type": "display_data"
    },
    {
     "name": "stdout",
     "output_type": "stream",
     "text": [
      "Transactions\n"
     ]
    },
    {
     "data": {
      "text/html": [
       "<div>\n",
       "<style scoped>\n",
       "    .dataframe tbody tr th:only-of-type {\n",
       "        vertical-align: middle;\n",
       "    }\n",
       "\n",
       "    .dataframe tbody tr th {\n",
       "        vertical-align: top;\n",
       "    }\n",
       "\n",
       "    .dataframe thead th {\n",
       "        text-align: right;\n",
       "    }\n",
       "</style>\n",
       "<table border=\"1\" class=\"dataframe\">\n",
       "  <thead>\n",
       "    <tr style=\"text-align: right;\">\n",
       "      <th></th>\n",
       "      <th>TransactionID</th>\n",
       "      <th>CustomerID</th>\n",
       "      <th>ProductID</th>\n",
       "      <th>TransactionDate</th>\n",
       "      <th>Quantity</th>\n",
       "      <th>TotalValue</th>\n",
       "      <th>Price</th>\n",
       "    </tr>\n",
       "  </thead>\n",
       "  <tbody>\n",
       "    <tr>\n",
       "      <th>0</th>\n",
       "      <td>T00001</td>\n",
       "      <td>C0199</td>\n",
       "      <td>P067</td>\n",
       "      <td>2024-08-25 12:38:23</td>\n",
       "      <td>1</td>\n",
       "      <td>300.68</td>\n",
       "      <td>300.68</td>\n",
       "    </tr>\n",
       "    <tr>\n",
       "      <th>1</th>\n",
       "      <td>T00112</td>\n",
       "      <td>C0146</td>\n",
       "      <td>P067</td>\n",
       "      <td>2024-05-27 22:23:54</td>\n",
       "      <td>1</td>\n",
       "      <td>300.68</td>\n",
       "      <td>300.68</td>\n",
       "    </tr>\n",
       "    <tr>\n",
       "      <th>2</th>\n",
       "      <td>T00166</td>\n",
       "      <td>C0127</td>\n",
       "      <td>P067</td>\n",
       "      <td>2024-04-25 7:38:55</td>\n",
       "      <td>1</td>\n",
       "      <td>300.68</td>\n",
       "      <td>300.68</td>\n",
       "    </tr>\n",
       "    <tr>\n",
       "      <th>3</th>\n",
       "      <td>T00272</td>\n",
       "      <td>C0087</td>\n",
       "      <td>P067</td>\n",
       "      <td>2024-03-26 22:55:37</td>\n",
       "      <td>2</td>\n",
       "      <td>601.36</td>\n",
       "      <td>300.68</td>\n",
       "    </tr>\n",
       "    <tr>\n",
       "      <th>4</th>\n",
       "      <td>T00363</td>\n",
       "      <td>C0070</td>\n",
       "      <td>P067</td>\n",
       "      <td>2024-03-21 15:10:10</td>\n",
       "      <td>3</td>\n",
       "      <td>902.04</td>\n",
       "      <td>300.68</td>\n",
       "    </tr>\n",
       "  </tbody>\n",
       "</table>\n",
       "</div>"
      ],
      "text/plain": [
       "  TransactionID CustomerID ProductID      TransactionDate  Quantity  \\\n",
       "0        T00001      C0199      P067  2024-08-25 12:38:23         1   \n",
       "1        T00112      C0146      P067  2024-05-27 22:23:54         1   \n",
       "2        T00166      C0127      P067   2024-04-25 7:38:55         1   \n",
       "3        T00272      C0087      P067  2024-03-26 22:55:37         2   \n",
       "4        T00363      C0070      P067  2024-03-21 15:10:10         3   \n",
       "\n",
       "   TotalValue   Price  \n",
       "0      300.68  300.68  \n",
       "1      300.68  300.68  \n",
       "2      300.68  300.68  \n",
       "3      601.36  300.68  \n",
       "4      902.04  300.68  "
      ]
     },
     "metadata": {},
     "output_type": "display_data"
    }
   ],
   "source": [
    "print(\"Customers\")\n",
    "display(customers.head())\n",
    "print(\"Products\")\n",
    "display(products.head())\n",
    "print(\"Transactions\")\n",
    "display(transactions.head())"
   ]
  },
  {
   "cell_type": "markdown",
   "id": "6541395f",
   "metadata": {
    "_cell_guid": "914ad265-c096-4f08-9ee4-c088fdd36702",
    "_uuid": "ec540b8b-8f35-4bd3-9ce6-8ce4315ef934",
    "collapsed": false,
    "jupyter": {
     "outputs_hidden": false
    },
    "papermill": {
     "duration": 0.009776,
     "end_time": "2025-02-02T12:46:33.055472",
     "exception": false,
     "start_time": "2025-02-02T12:46:33.045696",
     "status": "completed"
    },
    "tags": []
   },
   "source": [
    "# Data Shape"
   ]
  },
  {
   "cell_type": "code",
   "execution_count": 5,
   "id": "a7c8c63c",
   "metadata": {
    "_cell_guid": "2bf2151e-3465-4ca4-902a-51dc635cd7d9",
    "_uuid": "b51ec6cc-8808-4b25-b766-7dae78103b26",
    "collapsed": false,
    "execution": {
     "iopub.execute_input": "2025-02-02T12:46:33.076269Z",
     "iopub.status.busy": "2025-02-02T12:46:33.075915Z",
     "iopub.status.idle": "2025-02-02T12:46:33.082038Z",
     "shell.execute_reply": "2025-02-02T12:46:33.080776Z"
    },
    "jupyter": {
     "outputs_hidden": false
    },
    "papermill": {
     "duration": 0.018967,
     "end_time": "2025-02-02T12:46:33.083971",
     "exception": false,
     "start_time": "2025-02-02T12:46:33.065004",
     "status": "completed"
    },
    "tags": []
   },
   "outputs": [
    {
     "name": "stdout",
     "output_type": "stream",
     "text": [
      "Customer (200, 4)\n",
      "products (100, 4)\n",
      "transactions (1000, 7)\n"
     ]
    }
   ],
   "source": [
    "print(\"Customer\", customers.shape)\n",
    "print(\"products\",products.shape)\n",
    "print(\"transactions\",transactions.shape)"
   ]
  },
  {
   "cell_type": "markdown",
   "id": "52519598",
   "metadata": {
    "_cell_guid": "451a279e-43aa-4b10-8dd1-44f6312fb4ae",
    "_uuid": "c3a4aa08-46c7-43fd-9243-3fdfe69e6fb9",
    "collapsed": false,
    "jupyter": {
     "outputs_hidden": false
    },
    "papermill": {
     "duration": 0.011636,
     "end_time": "2025-02-02T12:46:33.105220",
     "exception": false,
     "start_time": "2025-02-02T12:46:33.093584",
     "status": "completed"
    },
    "tags": []
   },
   "source": [
    "# Dataframe datatypes"
   ]
  },
  {
   "cell_type": "code",
   "execution_count": 6,
   "id": "41a04ccc",
   "metadata": {
    "_cell_guid": "3eeb859d-9ea4-45ab-a651-cd9504270fde",
    "_uuid": "849387bd-4f2b-4e12-91ad-e088d1a3759a",
    "collapsed": false,
    "execution": {
     "iopub.execute_input": "2025-02-02T12:46:33.125219Z",
     "iopub.status.busy": "2025-02-02T12:46:33.124895Z",
     "iopub.status.idle": "2025-02-02T12:46:33.146786Z",
     "shell.execute_reply": "2025-02-02T12:46:33.145536Z"
    },
    "jupyter": {
     "outputs_hidden": false
    },
    "papermill": {
     "duration": 0.033853,
     "end_time": "2025-02-02T12:46:33.148615",
     "exception": false,
     "start_time": "2025-02-02T12:46:33.114762",
     "status": "completed"
    },
    "tags": []
   },
   "outputs": [
    {
     "name": "stdout",
     "output_type": "stream",
     "text": [
      "Basic Description\n",
      "Customers\n",
      "CustomerID      object\n",
      "CustomerName    object\n",
      "Region          object\n",
      "SignupDate      object\n",
      "dtype: object\n",
      "Products\n"
     ]
    },
    {
     "data": {
      "text/plain": [
       "ProductID       object\n",
       "ProductName     object\n",
       "Category        object\n",
       "Price          float64\n",
       "dtype: object"
      ]
     },
     "metadata": {},
     "output_type": "display_data"
    },
    {
     "name": "stdout",
     "output_type": "stream",
     "text": [
      "Transactions\n"
     ]
    },
    {
     "data": {
      "text/plain": [
       "TransactionID       object\n",
       "CustomerID          object\n",
       "ProductID           object\n",
       "TransactionDate     object\n",
       "Quantity             int64\n",
       "TotalValue         float64\n",
       "Price              float64\n",
       "dtype: object"
      ]
     },
     "metadata": {},
     "output_type": "display_data"
    }
   ],
   "source": [
    "print(\"Basic Description\")\n",
    "print(\"Customers\")\n",
    "print(customers.dtypes)\n",
    "print(\"Products\")\n",
    "display(products.dtypes)\n",
    "print(\"Transactions\")\n",
    "display(transactions.dtypes)\n",
    "\n",
    "customers[\"SignupDate\"]=pd.to_datetime(customers[\"SignupDate\"])\n",
    "transactions[\"TransactionDate\"]=pd.to_datetime(transactions[\"TransactionDate\"])"
   ]
  },
  {
   "cell_type": "markdown",
   "id": "34215636",
   "metadata": {
    "_cell_guid": "103cae37-146c-44eb-81c8-11bd240d7103",
    "_uuid": "941e1ed5-ff3c-40a1-bb25-ea915b4cf1ea",
    "collapsed": false,
    "jupyter": {
     "outputs_hidden": false
    },
    "papermill": {
     "duration": 0.00932,
     "end_time": "2025-02-02T12:46:33.167804",
     "exception": false,
     "start_time": "2025-02-02T12:46:33.158484",
     "status": "completed"
    },
    "tags": []
   },
   "source": [
    "# Description"
   ]
  },
  {
   "cell_type": "code",
   "execution_count": 7,
   "id": "34561415",
   "metadata": {
    "_cell_guid": "e95849a0-3728-4d41-89a1-fc8051948f21",
    "_uuid": "eb8ea562-497f-4fe7-93fd-70429f5f374d",
    "collapsed": false,
    "execution": {
     "iopub.execute_input": "2025-02-02T12:46:33.189163Z",
     "iopub.status.busy": "2025-02-02T12:46:33.188814Z",
     "iopub.status.idle": "2025-02-02T12:46:33.278250Z",
     "shell.execute_reply": "2025-02-02T12:46:33.277005Z"
    },
    "jupyter": {
     "outputs_hidden": false
    },
    "papermill": {
     "duration": 0.10266,
     "end_time": "2025-02-02T12:46:33.280246",
     "exception": false,
     "start_time": "2025-02-02T12:46:33.177586",
     "status": "completed"
    },
    "tags": []
   },
   "outputs": [
    {
     "name": "stdout",
     "output_type": "stream",
     "text": [
      "Basic Description\n",
      "Customers\n"
     ]
    },
    {
     "data": {
      "text/html": [
       "<div>\n",
       "<style scoped>\n",
       "    .dataframe tbody tr th:only-of-type {\n",
       "        vertical-align: middle;\n",
       "    }\n",
       "\n",
       "    .dataframe tbody tr th {\n",
       "        vertical-align: top;\n",
       "    }\n",
       "\n",
       "    .dataframe thead th {\n",
       "        text-align: right;\n",
       "    }\n",
       "</style>\n",
       "<table border=\"1\" class=\"dataframe\">\n",
       "  <thead>\n",
       "    <tr style=\"text-align: right;\">\n",
       "      <th></th>\n",
       "      <th>SignupDate</th>\n",
       "    </tr>\n",
       "  </thead>\n",
       "  <tbody>\n",
       "    <tr>\n",
       "      <th>count</th>\n",
       "      <td>200</td>\n",
       "    </tr>\n",
       "    <tr>\n",
       "      <th>mean</th>\n",
       "      <td>2023-07-19 08:31:12</td>\n",
       "    </tr>\n",
       "    <tr>\n",
       "      <th>min</th>\n",
       "      <td>2022-01-22 00:00:00</td>\n",
       "    </tr>\n",
       "    <tr>\n",
       "      <th>25%</th>\n",
       "      <td>2022-09-26 12:00:00</td>\n",
       "    </tr>\n",
       "    <tr>\n",
       "      <th>50%</th>\n",
       "      <td>2023-08-31 12:00:00</td>\n",
       "    </tr>\n",
       "    <tr>\n",
       "      <th>75%</th>\n",
       "      <td>2024-04-12 12:00:00</td>\n",
       "    </tr>\n",
       "    <tr>\n",
       "      <th>max</th>\n",
       "      <td>2024-12-28 00:00:00</td>\n",
       "    </tr>\n",
       "  </tbody>\n",
       "</table>\n",
       "</div>"
      ],
      "text/plain": [
       "                SignupDate\n",
       "count                  200\n",
       "mean   2023-07-19 08:31:12\n",
       "min    2022-01-22 00:00:00\n",
       "25%    2022-09-26 12:00:00\n",
       "50%    2023-08-31 12:00:00\n",
       "75%    2024-04-12 12:00:00\n",
       "max    2024-12-28 00:00:00"
      ]
     },
     "metadata": {},
     "output_type": "display_data"
    },
    {
     "data": {
      "text/html": [
       "<div>\n",
       "<style scoped>\n",
       "    .dataframe tbody tr th:only-of-type {\n",
       "        vertical-align: middle;\n",
       "    }\n",
       "\n",
       "    .dataframe tbody tr th {\n",
       "        vertical-align: top;\n",
       "    }\n",
       "\n",
       "    .dataframe thead th {\n",
       "        text-align: right;\n",
       "    }\n",
       "</style>\n",
       "<table border=\"1\" class=\"dataframe\">\n",
       "  <thead>\n",
       "    <tr style=\"text-align: right;\">\n",
       "      <th></th>\n",
       "      <th>ProductID</th>\n",
       "      <th>ProductName</th>\n",
       "      <th>Category</th>\n",
       "    </tr>\n",
       "  </thead>\n",
       "  <tbody>\n",
       "    <tr>\n",
       "      <th>count</th>\n",
       "      <td>100</td>\n",
       "      <td>100</td>\n",
       "      <td>100</td>\n",
       "    </tr>\n",
       "    <tr>\n",
       "      <th>unique</th>\n",
       "      <td>100</td>\n",
       "      <td>66</td>\n",
       "      <td>4</td>\n",
       "    </tr>\n",
       "    <tr>\n",
       "      <th>top</th>\n",
       "      <td>P001</td>\n",
       "      <td>ActiveWear Smartwatch</td>\n",
       "      <td>Books</td>\n",
       "    </tr>\n",
       "    <tr>\n",
       "      <th>freq</th>\n",
       "      <td>1</td>\n",
       "      <td>4</td>\n",
       "      <td>26</td>\n",
       "    </tr>\n",
       "  </tbody>\n",
       "</table>\n",
       "</div>"
      ],
      "text/plain": [
       "       ProductID            ProductName Category\n",
       "count        100                    100      100\n",
       "unique       100                     66        4\n",
       "top         P001  ActiveWear Smartwatch    Books\n",
       "freq           1                      4       26"
      ]
     },
     "metadata": {},
     "output_type": "display_data"
    },
    {
     "name": "stdout",
     "output_type": "stream",
     "text": [
      "Products\n"
     ]
    },
    {
     "data": {
      "text/html": [
       "<div>\n",
       "<style scoped>\n",
       "    .dataframe tbody tr th:only-of-type {\n",
       "        vertical-align: middle;\n",
       "    }\n",
       "\n",
       "    .dataframe tbody tr th {\n",
       "        vertical-align: top;\n",
       "    }\n",
       "\n",
       "    .dataframe thead th {\n",
       "        text-align: right;\n",
       "    }\n",
       "</style>\n",
       "<table border=\"1\" class=\"dataframe\">\n",
       "  <thead>\n",
       "    <tr style=\"text-align: right;\">\n",
       "      <th></th>\n",
       "      <th>Price</th>\n",
       "    </tr>\n",
       "  </thead>\n",
       "  <tbody>\n",
       "    <tr>\n",
       "      <th>count</th>\n",
       "      <td>100.000000</td>\n",
       "    </tr>\n",
       "    <tr>\n",
       "      <th>mean</th>\n",
       "      <td>267.551700</td>\n",
       "    </tr>\n",
       "    <tr>\n",
       "      <th>std</th>\n",
       "      <td>143.219383</td>\n",
       "    </tr>\n",
       "    <tr>\n",
       "      <th>min</th>\n",
       "      <td>16.080000</td>\n",
       "    </tr>\n",
       "    <tr>\n",
       "      <th>25%</th>\n",
       "      <td>147.767500</td>\n",
       "    </tr>\n",
       "    <tr>\n",
       "      <th>50%</th>\n",
       "      <td>292.875000</td>\n",
       "    </tr>\n",
       "    <tr>\n",
       "      <th>75%</th>\n",
       "      <td>397.090000</td>\n",
       "    </tr>\n",
       "    <tr>\n",
       "      <th>max</th>\n",
       "      <td>497.760000</td>\n",
       "    </tr>\n",
       "  </tbody>\n",
       "</table>\n",
       "</div>"
      ],
      "text/plain": [
       "            Price\n",
       "count  100.000000\n",
       "mean   267.551700\n",
       "std    143.219383\n",
       "min     16.080000\n",
       "25%    147.767500\n",
       "50%    292.875000\n",
       "75%    397.090000\n",
       "max    497.760000"
      ]
     },
     "metadata": {},
     "output_type": "display_data"
    },
    {
     "data": {
      "text/html": [
       "<div>\n",
       "<style scoped>\n",
       "    .dataframe tbody tr th:only-of-type {\n",
       "        vertical-align: middle;\n",
       "    }\n",
       "\n",
       "    .dataframe tbody tr th {\n",
       "        vertical-align: top;\n",
       "    }\n",
       "\n",
       "    .dataframe thead th {\n",
       "        text-align: right;\n",
       "    }\n",
       "</style>\n",
       "<table border=\"1\" class=\"dataframe\">\n",
       "  <thead>\n",
       "    <tr style=\"text-align: right;\">\n",
       "      <th></th>\n",
       "      <th>ProductID</th>\n",
       "      <th>ProductName</th>\n",
       "      <th>Category</th>\n",
       "    </tr>\n",
       "  </thead>\n",
       "  <tbody>\n",
       "    <tr>\n",
       "      <th>count</th>\n",
       "      <td>100</td>\n",
       "      <td>100</td>\n",
       "      <td>100</td>\n",
       "    </tr>\n",
       "    <tr>\n",
       "      <th>unique</th>\n",
       "      <td>100</td>\n",
       "      <td>66</td>\n",
       "      <td>4</td>\n",
       "    </tr>\n",
       "    <tr>\n",
       "      <th>top</th>\n",
       "      <td>P001</td>\n",
       "      <td>ActiveWear Smartwatch</td>\n",
       "      <td>Books</td>\n",
       "    </tr>\n",
       "    <tr>\n",
       "      <th>freq</th>\n",
       "      <td>1</td>\n",
       "      <td>4</td>\n",
       "      <td>26</td>\n",
       "    </tr>\n",
       "  </tbody>\n",
       "</table>\n",
       "</div>"
      ],
      "text/plain": [
       "       ProductID            ProductName Category\n",
       "count        100                    100      100\n",
       "unique       100                     66        4\n",
       "top         P001  ActiveWear Smartwatch    Books\n",
       "freq           1                      4       26"
      ]
     },
     "metadata": {},
     "output_type": "display_data"
    },
    {
     "name": "stdout",
     "output_type": "stream",
     "text": [
      "Transactions\n"
     ]
    },
    {
     "data": {
      "text/html": [
       "<div>\n",
       "<style scoped>\n",
       "    .dataframe tbody tr th:only-of-type {\n",
       "        vertical-align: middle;\n",
       "    }\n",
       "\n",
       "    .dataframe tbody tr th {\n",
       "        vertical-align: top;\n",
       "    }\n",
       "\n",
       "    .dataframe thead th {\n",
       "        text-align: right;\n",
       "    }\n",
       "</style>\n",
       "<table border=\"1\" class=\"dataframe\">\n",
       "  <thead>\n",
       "    <tr style=\"text-align: right;\">\n",
       "      <th></th>\n",
       "      <th>TransactionDate</th>\n",
       "      <th>Quantity</th>\n",
       "      <th>TotalValue</th>\n",
       "      <th>Price</th>\n",
       "    </tr>\n",
       "  </thead>\n",
       "  <tbody>\n",
       "    <tr>\n",
       "      <th>count</th>\n",
       "      <td>1000</td>\n",
       "      <td>1000.000000</td>\n",
       "      <td>1000.000000</td>\n",
       "      <td>1000.00000</td>\n",
       "    </tr>\n",
       "    <tr>\n",
       "      <th>mean</th>\n",
       "      <td>2024-06-23 15:33:02.768999936</td>\n",
       "      <td>2.537000</td>\n",
       "      <td>689.995560</td>\n",
       "      <td>272.55407</td>\n",
       "    </tr>\n",
       "    <tr>\n",
       "      <th>min</th>\n",
       "      <td>2023-12-30 15:29:12</td>\n",
       "      <td>1.000000</td>\n",
       "      <td>16.080000</td>\n",
       "      <td>16.08000</td>\n",
       "    </tr>\n",
       "    <tr>\n",
       "      <th>25%</th>\n",
       "      <td>2024-03-25 22:05:34.500000</td>\n",
       "      <td>2.000000</td>\n",
       "      <td>295.295000</td>\n",
       "      <td>147.95000</td>\n",
       "    </tr>\n",
       "    <tr>\n",
       "      <th>50%</th>\n",
       "      <td>2024-06-26 17:21:52.500000</td>\n",
       "      <td>3.000000</td>\n",
       "      <td>588.880000</td>\n",
       "      <td>299.93000</td>\n",
       "    </tr>\n",
       "    <tr>\n",
       "      <th>75%</th>\n",
       "      <td>2024-09-19 14:19:57</td>\n",
       "      <td>4.000000</td>\n",
       "      <td>1011.660000</td>\n",
       "      <td>404.40000</td>\n",
       "    </tr>\n",
       "    <tr>\n",
       "      <th>max</th>\n",
       "      <td>2024-12-28 11:00:00</td>\n",
       "      <td>4.000000</td>\n",
       "      <td>1991.040000</td>\n",
       "      <td>497.76000</td>\n",
       "    </tr>\n",
       "    <tr>\n",
       "      <th>std</th>\n",
       "      <td>NaN</td>\n",
       "      <td>1.117981</td>\n",
       "      <td>493.144478</td>\n",
       "      <td>140.73639</td>\n",
       "    </tr>\n",
       "  </tbody>\n",
       "</table>\n",
       "</div>"
      ],
      "text/plain": [
       "                     TransactionDate     Quantity   TotalValue       Price\n",
       "count                           1000  1000.000000  1000.000000  1000.00000\n",
       "mean   2024-06-23 15:33:02.768999936     2.537000   689.995560   272.55407\n",
       "min              2023-12-30 15:29:12     1.000000    16.080000    16.08000\n",
       "25%       2024-03-25 22:05:34.500000     2.000000   295.295000   147.95000\n",
       "50%       2024-06-26 17:21:52.500000     3.000000   588.880000   299.93000\n",
       "75%              2024-09-19 14:19:57     4.000000  1011.660000   404.40000\n",
       "max              2024-12-28 11:00:00     4.000000  1991.040000   497.76000\n",
       "std                              NaN     1.117981   493.144478   140.73639"
      ]
     },
     "metadata": {},
     "output_type": "display_data"
    },
    {
     "data": {
      "text/html": [
       "<div>\n",
       "<style scoped>\n",
       "    .dataframe tbody tr th:only-of-type {\n",
       "        vertical-align: middle;\n",
       "    }\n",
       "\n",
       "    .dataframe tbody tr th {\n",
       "        vertical-align: top;\n",
       "    }\n",
       "\n",
       "    .dataframe thead th {\n",
       "        text-align: right;\n",
       "    }\n",
       "</style>\n",
       "<table border=\"1\" class=\"dataframe\">\n",
       "  <thead>\n",
       "    <tr style=\"text-align: right;\">\n",
       "      <th></th>\n",
       "      <th>TransactionID</th>\n",
       "      <th>CustomerID</th>\n",
       "      <th>ProductID</th>\n",
       "    </tr>\n",
       "  </thead>\n",
       "  <tbody>\n",
       "    <tr>\n",
       "      <th>count</th>\n",
       "      <td>1000</td>\n",
       "      <td>1000</td>\n",
       "      <td>1000</td>\n",
       "    </tr>\n",
       "    <tr>\n",
       "      <th>unique</th>\n",
       "      <td>1000</td>\n",
       "      <td>199</td>\n",
       "      <td>100</td>\n",
       "    </tr>\n",
       "    <tr>\n",
       "      <th>top</th>\n",
       "      <td>T00001</td>\n",
       "      <td>C0109</td>\n",
       "      <td>P059</td>\n",
       "    </tr>\n",
       "    <tr>\n",
       "      <th>freq</th>\n",
       "      <td>1</td>\n",
       "      <td>11</td>\n",
       "      <td>19</td>\n",
       "    </tr>\n",
       "  </tbody>\n",
       "</table>\n",
       "</div>"
      ],
      "text/plain": [
       "       TransactionID CustomerID ProductID\n",
       "count           1000       1000      1000\n",
       "unique          1000        199       100\n",
       "top           T00001      C0109      P059\n",
       "freq               1         11        19"
      ]
     },
     "metadata": {},
     "output_type": "display_data"
    }
   ],
   "source": [
    "print(\"Basic Description\")\n",
    "print(\"Customers\")\n",
    "display(customers.describe())\n",
    "display(products.describe(include=\"object\"))\n",
    "print(\"Products\")\n",
    "display(products.describe())\n",
    "display(products.describe(include=\"object\"))\n",
    "print(\"Transactions\")\n",
    "display(transactions.describe())\n",
    "display(transactions.describe(include=\"object\"))"
   ]
  },
  {
   "cell_type": "code",
   "execution_count": 8,
   "id": "1c96bc3c",
   "metadata": {
    "_cell_guid": "7f599b11-85dc-4cfb-8eb8-84b16fed7e81",
    "_uuid": "864cc7a3-ec5a-480d-b6b2-d389fca84ece",
    "collapsed": false,
    "execution": {
     "iopub.execute_input": "2025-02-02T12:46:33.303936Z",
     "iopub.status.busy": "2025-02-02T12:46:33.303531Z",
     "iopub.status.idle": "2025-02-02T12:46:33.315217Z",
     "shell.execute_reply": "2025-02-02T12:46:33.313980Z"
    },
    "jupyter": {
     "outputs_hidden": false
    },
    "papermill": {
     "duration": 0.025365,
     "end_time": "2025-02-02T12:46:33.317095",
     "exception": false,
     "start_time": "2025-02-02T12:46:33.291730",
     "status": "completed"
    },
    "tags": []
   },
   "outputs": [
    {
     "name": "stdout",
     "output_type": "stream",
     "text": [
      "Missing values\n",
      "Customers\n",
      "CustomerID      0\n",
      "CustomerName    0\n",
      "Region          0\n",
      "SignupDate      0\n",
      "dtype: int64\n",
      "Products\n",
      "ProductID      0\n",
      "ProductName    0\n",
      "Category       0\n",
      "Price          0\n",
      "dtype: int64\n",
      "Transactions\n",
      "TransactionID      0\n",
      "CustomerID         0\n",
      "ProductID          0\n",
      "TransactionDate    0\n",
      "Quantity           0\n",
      "TotalValue         0\n",
      "Price              0\n",
      "dtype: int64\n"
     ]
    }
   ],
   "source": [
    "print(\"Missing values\")\n",
    "print(\"Customers\")\n",
    "print(customers.isnull().sum())\n",
    "print(\"Products\")\n",
    "print(products.isnull().sum())\n",
    "print(\"Transactions\")\n",
    "print(transactions.isnull().sum())\n",
    "# No null values"
   ]
  },
  {
   "cell_type": "markdown",
   "id": "5b4119bc",
   "metadata": {
    "_cell_guid": "a009ff36-1f3a-45c5-bb24-98815183815f",
    "_uuid": "10edf8d0-a28c-4590-be7b-c2967ec9bfff",
    "collapsed": false,
    "jupyter": {
     "outputs_hidden": false
    },
    "papermill": {
     "duration": 0.010617,
     "end_time": "2025-02-02T12:46:33.338828",
     "exception": false,
     "start_time": "2025-02-02T12:46:33.328211",
     "status": "completed"
    },
    "tags": []
   },
   "source": []
  },
  {
   "cell_type": "code",
   "execution_count": 9,
   "id": "20ed2e9a",
   "metadata": {
    "_cell_guid": "c047f5d5-ad70-4582-88b9-fc448720e146",
    "_uuid": "ce4c8f4c-ff8e-4a89-a4bf-e7064723c829",
    "collapsed": false,
    "execution": {
     "iopub.execute_input": "2025-02-02T12:46:33.362197Z",
     "iopub.status.busy": "2025-02-02T12:46:33.361739Z",
     "iopub.status.idle": "2025-02-02T12:46:33.375749Z",
     "shell.execute_reply": "2025-02-02T12:46:33.374629Z"
    },
    "jupyter": {
     "outputs_hidden": false
    },
    "papermill": {
     "duration": 0.027789,
     "end_time": "2025-02-02T12:46:33.377594",
     "exception": false,
     "start_time": "2025-02-02T12:46:33.349805",
     "status": "completed"
    },
    "tags": []
   },
   "outputs": [
    {
     "name": "stdout",
     "output_type": "stream",
     "text": [
      "Duplicate Customers: 0\n",
      "Duplicate Products: 0\n",
      "Duplicate Transactions: 0\n"
     ]
    }
   ],
   "source": [
    "print(\"Duplicate Customers:\", customers.duplicated().sum())\n",
    "print(\"Duplicate Products:\", products.duplicated().sum())\n",
    "print(\"Duplicate Transactions:\", transactions.duplicated().sum())\n",
    "# No duplicates"
   ]
  },
  {
   "cell_type": "markdown",
   "id": "b643b71a",
   "metadata": {
    "_cell_guid": "06653af9-b105-4b7d-b2df-e43b8aa88cc7",
    "_uuid": "0e2be337-608a-42c7-98ca-cc0d10a6cb82",
    "collapsed": false,
    "jupyter": {
     "outputs_hidden": false
    },
    "papermill": {
     "duration": 0.01044,
     "end_time": "2025-02-02T12:46:33.399976",
     "exception": false,
     "start_time": "2025-02-02T12:46:33.389536",
     "status": "completed"
    },
    "tags": []
   },
   "source": [
    "# Data Combination"
   ]
  },
  {
   "cell_type": "code",
   "execution_count": 10,
   "id": "937eaebb",
   "metadata": {
    "_cell_guid": "9071bc18-d8a7-4f22-b9b3-3fdc1df9ffbf",
    "_uuid": "cec3b104-ee97-4041-bdc4-5e5f68064301",
    "collapsed": false,
    "execution": {
     "iopub.execute_input": "2025-02-02T12:46:33.423277Z",
     "iopub.status.busy": "2025-02-02T12:46:33.422894Z",
     "iopub.status.idle": "2025-02-02T12:46:33.456916Z",
     "shell.execute_reply": "2025-02-02T12:46:33.455719Z"
    },
    "jupyter": {
     "outputs_hidden": false
    },
    "papermill": {
     "duration": 0.04802,
     "end_time": "2025-02-02T12:46:33.458881",
     "exception": false,
     "start_time": "2025-02-02T12:46:33.410861",
     "status": "completed"
    },
    "tags": []
   },
   "outputs": [
    {
     "data": {
      "text/html": [
       "<div>\n",
       "<style scoped>\n",
       "    .dataframe tbody tr th:only-of-type {\n",
       "        vertical-align: middle;\n",
       "    }\n",
       "\n",
       "    .dataframe tbody tr th {\n",
       "        vertical-align: top;\n",
       "    }\n",
       "\n",
       "    .dataframe thead th {\n",
       "        text-align: right;\n",
       "    }\n",
       "</style>\n",
       "<table border=\"1\" class=\"dataframe\">\n",
       "  <thead>\n",
       "    <tr style=\"text-align: right;\">\n",
       "      <th></th>\n",
       "      <th>TransactionID</th>\n",
       "      <th>CustomerID</th>\n",
       "      <th>ProductID</th>\n",
       "      <th>TransactionDate</th>\n",
       "      <th>Quantity</th>\n",
       "      <th>TotalValue</th>\n",
       "      <th>Price</th>\n",
       "      <th>CustomerName</th>\n",
       "      <th>Region</th>\n",
       "      <th>SignupDate</th>\n",
       "      <th>ProductName</th>\n",
       "      <th>Category</th>\n",
       "    </tr>\n",
       "  </thead>\n",
       "  <tbody>\n",
       "    <tr>\n",
       "      <th>0</th>\n",
       "      <td>T00001</td>\n",
       "      <td>C0199</td>\n",
       "      <td>P067</td>\n",
       "      <td>2024-08-25 12:38:23</td>\n",
       "      <td>1</td>\n",
       "      <td>300.68</td>\n",
       "      <td>300.68</td>\n",
       "      <td>Andrea Jenkins</td>\n",
       "      <td>Europe</td>\n",
       "      <td>2022-12-03</td>\n",
       "      <td>ComfortLiving Bluetooth Speaker</td>\n",
       "      <td>Electronics</td>\n",
       "    </tr>\n",
       "    <tr>\n",
       "      <th>1</th>\n",
       "      <td>T00112</td>\n",
       "      <td>C0146</td>\n",
       "      <td>P067</td>\n",
       "      <td>2024-05-27 22:23:54</td>\n",
       "      <td>1</td>\n",
       "      <td>300.68</td>\n",
       "      <td>300.68</td>\n",
       "      <td>Brittany Harvey</td>\n",
       "      <td>Asia</td>\n",
       "      <td>2024-09-04</td>\n",
       "      <td>ComfortLiving Bluetooth Speaker</td>\n",
       "      <td>Electronics</td>\n",
       "    </tr>\n",
       "    <tr>\n",
       "      <th>2</th>\n",
       "      <td>T00166</td>\n",
       "      <td>C0127</td>\n",
       "      <td>P067</td>\n",
       "      <td>2024-04-25 07:38:55</td>\n",
       "      <td>1</td>\n",
       "      <td>300.68</td>\n",
       "      <td>300.68</td>\n",
       "      <td>Kathryn Stevens</td>\n",
       "      <td>Europe</td>\n",
       "      <td>2024-04-04</td>\n",
       "      <td>ComfortLiving Bluetooth Speaker</td>\n",
       "      <td>Electronics</td>\n",
       "    </tr>\n",
       "    <tr>\n",
       "      <th>3</th>\n",
       "      <td>T00272</td>\n",
       "      <td>C0087</td>\n",
       "      <td>P067</td>\n",
       "      <td>2024-03-26 22:55:37</td>\n",
       "      <td>2</td>\n",
       "      <td>601.36</td>\n",
       "      <td>300.68</td>\n",
       "      <td>Travis Campbell</td>\n",
       "      <td>South America</td>\n",
       "      <td>2024-04-11</td>\n",
       "      <td>ComfortLiving Bluetooth Speaker</td>\n",
       "      <td>Electronics</td>\n",
       "    </tr>\n",
       "    <tr>\n",
       "      <th>4</th>\n",
       "      <td>T00363</td>\n",
       "      <td>C0070</td>\n",
       "      <td>P067</td>\n",
       "      <td>2024-03-21 15:10:10</td>\n",
       "      <td>3</td>\n",
       "      <td>902.04</td>\n",
       "      <td>300.68</td>\n",
       "      <td>Timothy Perez</td>\n",
       "      <td>Europe</td>\n",
       "      <td>2022-03-15</td>\n",
       "      <td>ComfortLiving Bluetooth Speaker</td>\n",
       "      <td>Electronics</td>\n",
       "    </tr>\n",
       "  </tbody>\n",
       "</table>\n",
       "</div>"
      ],
      "text/plain": [
       "  TransactionID CustomerID ProductID     TransactionDate  Quantity  \\\n",
       "0        T00001      C0199      P067 2024-08-25 12:38:23         1   \n",
       "1        T00112      C0146      P067 2024-05-27 22:23:54         1   \n",
       "2        T00166      C0127      P067 2024-04-25 07:38:55         1   \n",
       "3        T00272      C0087      P067 2024-03-26 22:55:37         2   \n",
       "4        T00363      C0070      P067 2024-03-21 15:10:10         3   \n",
       "\n",
       "   TotalValue   Price     CustomerName         Region SignupDate  \\\n",
       "0      300.68  300.68   Andrea Jenkins         Europe 2022-12-03   \n",
       "1      300.68  300.68  Brittany Harvey           Asia 2024-09-04   \n",
       "2      300.68  300.68  Kathryn Stevens         Europe 2024-04-04   \n",
       "3      601.36  300.68  Travis Campbell  South America 2024-04-11   \n",
       "4      902.04  300.68    Timothy Perez         Europe 2022-03-15   \n",
       "\n",
       "                       ProductName     Category  \n",
       "0  ComfortLiving Bluetooth Speaker  Electronics  \n",
       "1  ComfortLiving Bluetooth Speaker  Electronics  \n",
       "2  ComfortLiving Bluetooth Speaker  Electronics  \n",
       "3  ComfortLiving Bluetooth Speaker  Electronics  \n",
       "4  ComfortLiving Bluetooth Speaker  Electronics  "
      ]
     },
     "execution_count": 10,
     "metadata": {},
     "output_type": "execute_result"
    }
   ],
   "source": [
    "df_combined_trans_cust=transactions.merge(customers,on=\"CustomerID\",how=\"left\")\n",
    "df_combined=df_combined_trans_cust.merge(products.drop([\"Price\"],axis=1),on=\"ProductID\",how=\"left\")\n",
    "df_combined.head()"
   ]
  },
  {
   "cell_type": "markdown",
   "id": "69a192ce",
   "metadata": {
    "_cell_guid": "60d51cc8-43be-4103-9e26-3743b676bf3b",
    "_uuid": "7ff649bd-dd6e-4872-8dc8-5aec9f88641a",
    "collapsed": false,
    "jupyter": {
     "outputs_hidden": false
    },
    "papermill": {
     "duration": 0.010983,
     "end_time": "2025-02-02T12:46:33.481635",
     "exception": false,
     "start_time": "2025-02-02T12:46:33.470652",
     "status": "completed"
    },
    "tags": []
   },
   "source": [
    "# Top N Frequent Customers"
   ]
  },
  {
   "cell_type": "code",
   "execution_count": 11,
   "id": "343388bd",
   "metadata": {
    "_cell_guid": "63896022-cdcf-4edf-8759-d361903f4eee",
    "_uuid": "7a574b24-ff9a-41a7-827e-3528f7b4a343",
    "collapsed": false,
    "execution": {
     "iopub.execute_input": "2025-02-02T12:46:33.505919Z",
     "iopub.status.busy": "2025-02-02T12:46:33.505529Z",
     "iopub.status.idle": "2025-02-02T12:46:33.823761Z",
     "shell.execute_reply": "2025-02-02T12:46:33.822539Z"
    },
    "jupyter": {
     "outputs_hidden": false
    },
    "papermill": {
     "duration": 0.33327,
     "end_time": "2025-02-02T12:46:33.826083",
     "exception": false,
     "start_time": "2025-02-02T12:46:33.492813",
     "status": "completed"
    },
    "tags": []
   },
   "outputs": [
    {
     "data": {
      "image/png": "[encoded data removed]",
      "text/plain": [
       "<Figure size 600x333.333 with 1 Axes>"
      ]
     },
     "metadata": {},
     "output_type": "display_data"
    }
   ],
   "source": [
    "top_n_cnt=10\n",
    "top_customers=df_combined[\"CustomerID\"].value_counts().head(top_n_cnt)\n",
    "plt.figure(figsize=(6,top_n_cnt/3))\n",
    "sns.barplot(y=top_customers.index,x=top_customers.values,color=\"green\")\n",
    "plt.ylabel(\"Customer ID\")\n",
    "plt.xlabel(\"Number of Transactions\")\n",
    "plt.title(f\"Top {top_n_cnt} Customers by Transactions\")\n",
    "plt.show()"
   ]
  },
  {
   "cell_type": "markdown",
   "id": "835d271a",
   "metadata": {
    "_cell_guid": "78c460ef-de3d-4bde-acb1-2bb18da84f16",
    "_uuid": "217d484c-174d-4c07-8e3f-29edcffb1c5a",
    "collapsed": false,
    "jupyter": {
     "outputs_hidden": false
    },
    "papermill": {
     "duration": 0.011588,
     "end_time": "2025-02-02T12:46:33.849882",
     "exception": false,
     "start_time": "2025-02-02T12:46:33.838294",
     "status": "completed"
    },
    "tags": []
   },
   "source": [
    "# Best and Worst Seller Products"
   ]
  },
  {
   "cell_type": "code",
   "execution_count": 12,
   "id": "0fee1aab",
   "metadata": {
    "_cell_guid": "59735012-b78d-4b49-aaf8-0c26bf057afd",
    "_uuid": "9742496e-cab7-40cc-99af-385126eb2dfb",
    "collapsed": false,
    "execution": {
     "iopub.execute_input": "2025-02-02T12:46:33.875142Z",
     "iopub.status.busy": "2025-02-02T12:46:33.874791Z",
     "iopub.status.idle": "2025-02-02T12:46:34.190222Z",
     "shell.execute_reply": "2025-02-02T12:46:34.189134Z"
    },
    "jupyter": {
     "outputs_hidden": false
    },
    "papermill": {
     "duration": 0.33011,
     "end_time": "2025-02-02T12:46:34.192286",
     "exception": false,
     "start_time": "2025-02-02T12:46:33.862176",
     "status": "completed"
    },
    "tags": []
   },
   "outputs": [
    {
     "data": {
      "image/png": "[encoded data removed]",
      "text/plain": [
       "<Figure size 600x500 with 1 Axes>"
      ]
     },
     "metadata": {},
     "output_type": "display_data"
    }
   ],
   "source": [
    "top_n_cnt=15\n",
    "top_products=df_combined.groupby(\"ProductName\")[\"Quantity\"].sum().sort_values(ascending=False)\n",
    "top_n_products=top_products.head(top_n_cnt)\n",
    "plt.figure(figsize=(6,top_n_cnt/3))\n",
    "sns.barplot(x=top_n_products.values,y=top_n_products.index,color=\"green\")\n",
    "plt.xlabel(\"Quantity Sold\")\n",
    "plt.ylabel(\"Product Name\")\n",
    "plt.title(f\"Top {top_n_cnt} Best-Selling Products\")\n",
    "plt.show()"
   ]
  },
  {
   "cell_type": "code",
   "execution_count": 13,
   "id": "87082212",
   "metadata": {
    "execution": {
     "iopub.execute_input": "2025-02-02T12:46:34.220424Z",
     "iopub.status.busy": "2025-02-02T12:46:34.219978Z",
     "iopub.status.idle": "2025-02-02T12:46:34.564578Z",
     "shell.execute_reply": "2025-02-02T12:46:34.563420Z"
    },
    "papermill": {
     "duration": 0.360912,
     "end_time": "2025-02-02T12:46:34.566694",
     "exception": false,
     "start_time": "2025-02-02T12:46:34.205782",
     "status": "completed"
    },
    "tags": []
   },
   "outputs": [
    {
     "data": {
      "image/png": "[encoded data removed]",
      "text/plain": [
       "<Figure size 600x500 with 1 Axes>"
      ]
     },
     "metadata": {},
     "output_type": "display_data"
    }
   ],
   "source": [
    "bottom_n_cnt=15\n",
    "least_sodl_products=df_combined.groupby(\"ProductName\")[\"Quantity\"].sum().sort_values(ascending=True)\n",
    "least_sodl_products=least_sodl_products.head(bottom_n_cnt)\n",
    "plt.figure(figsize=(6,top_n_cnt/3))\n",
    "sns.barplot(x=least_sodl_products.values,y=least_sodl_products.index,color=\"green\")\n",
    "plt.xlabel(\"Quantity Sold\")\n",
    "plt.ylabel(\"Product Name\")\n",
    "plt.title(f\"Top {bottom_n_cnt} Worst-Selling Products\")\n",
    "plt.show()"
   ]
  },
  {
   "cell_type": "markdown",
   "id": "3f79441d",
   "metadata": {
    "_cell_guid": "133532aa-cb0b-4908-9297-d3dfc610824e",
    "_uuid": "455e6ef2-0e65-4a7f-ad7c-bdea409e347d",
    "collapsed": false,
    "jupyter": {
     "outputs_hidden": false
    },
    "papermill": {
     "duration": 0.014803,
     "end_time": "2025-02-02T12:46:34.596085",
     "exception": false,
     "start_time": "2025-02-02T12:46:34.581282",
     "status": "completed"
    },
    "tags": []
   },
   "source": [
    "# Category revenue"
   ]
  },
  {
   "cell_type": "code",
   "execution_count": 14,
   "id": "0462dcd0",
   "metadata": {
    "_cell_guid": "28adce3a-8332-4a82-8fac-4d5e8059fbb3",
    "_uuid": "ea0ca871-c44f-4d73-9486-5d50f00eb68e",
    "collapsed": false,
    "execution": {
     "iopub.execute_input": "2025-02-02T12:46:34.626123Z",
     "iopub.status.busy": "2025-02-02T12:46:34.625783Z",
     "iopub.status.idle": "2025-02-02T12:46:34.760101Z",
     "shell.execute_reply": "2025-02-02T12:46:34.758958Z"
    },
    "jupyter": {
     "outputs_hidden": false
    },
    "papermill": {
     "duration": 0.151633,
     "end_time": "2025-02-02T12:46:34.762209",
     "exception": false,
     "start_time": "2025-02-02T12:46:34.610576",
     "status": "completed"
    },
    "tags": []
   },
   "outputs": [
    {
     "data": {
      "image/png": "[encoded data removed]",
      "text/plain": [
       "<Figure size 300x200 with 1 Axes>"
      ]
     },
     "metadata": {},
     "output_type": "display_data"
    }
   ],
   "source": [
    "category_revenue = df_combined.groupby(\"Category\")[\"TotalValue\"].sum().sort_values(ascending=False)\n",
    "plt.figure(figsize=(3, 2))\n",
    "sns.barplot(y=category_revenue.index,x=category_revenue.values,color=\"green\")\n",
    "plt.ylabel(\"Product Category\")\n",
    "plt.xlabel(\"Total Revenue\")\n",
    "plt.show()"
   ]
  },
  {
   "cell_type": "code",
   "execution_count": 15,
   "id": "5890058b",
   "metadata": {
    "execution": {
     "iopub.execute_input": "2025-02-02T12:46:34.794584Z",
     "iopub.status.busy": "2025-02-02T12:46:34.794171Z",
     "iopub.status.idle": "2025-02-02T12:46:34.931058Z",
     "shell.execute_reply": "2025-02-02T12:46:34.929943Z"
    },
    "papermill": {
     "duration": 0.155405,
     "end_time": "2025-02-02T12:46:34.932760",
     "exception": false,
     "start_time": "2025-02-02T12:46:34.777355",
     "status": "completed"
    },
    "tags": []
   },
   "outputs": [
    {
     "data": {
      "image/png": "[encoded data removed]",
      "text/plain": [
       "<Figure size 400x200 with 1 Axes>"
      ]
     },
     "metadata": {},
     "output_type": "display_data"
    }
   ],
   "source": [
    "category_transactions = df_combined.groupby(\"Category\")[\"TotalValue\"].count().sort_values(ascending=False)\n",
    "plt.figure(figsize=(4, 2))\n",
    "sns.barplot(y=category_transactions.index,x=category_transactions.values,color=\"green\")\n",
    "plt.ylabel(\"Product Category\")\n",
    "plt.xlabel(\"Total products sold\")\n",
    "plt.show()"
   ]
  },
  {
   "cell_type": "markdown",
   "id": "a347d63f",
   "metadata": {
    "_cell_guid": "5fdcb10c-57be-407a-9222-51e4133970d2",
    "_uuid": "113cd8b4-a344-42ab-8c75-9089aa306d05",
    "collapsed": false,
    "jupyter": {
     "outputs_hidden": false
    },
    "papermill": {
     "duration": 0.014645,
     "end_time": "2025-02-02T12:46:34.962701",
     "exception": false,
     "start_time": "2025-02-02T12:46:34.948056",
     "status": "completed"
    },
    "tags": []
   },
   "source": [
    "# Monthly sales"
   ]
  },
  {
   "cell_type": "code",
   "execution_count": 16,
   "id": "d397faec",
   "metadata": {
    "_cell_guid": "8b379d21-f8fa-490e-ac61-513503f97ef7",
    "_uuid": "94b102b9-68b9-4371-aa6b-99553d8b6a08",
    "collapsed": false,
    "execution": {
     "iopub.execute_input": "2025-02-02T12:46:34.994251Z",
     "iopub.status.busy": "2025-02-02T12:46:34.993917Z",
     "iopub.status.idle": "2025-02-02T12:46:35.185415Z",
     "shell.execute_reply": "2025-02-02T12:46:35.184040Z"
    },
    "jupyter": {
     "outputs_hidden": false
    },
    "papermill": {
     "duration": 0.209198,
     "end_time": "2025-02-02T12:46:35.187365",
     "exception": false,
     "start_time": "2025-02-02T12:46:34.978167",
     "status": "completed"
    },
    "tags": []
   },
   "outputs": [
    {
     "name": "stderr",
     "output_type": "stream",
     "text": [
      "/usr/local/lib/python3.10/dist-packages/seaborn/_oldcore.py:1119: FutureWarning: use_inf_as_na option is deprecated and will be removed in a future version. Convert inf values to NaN before operating instead.\n",
      "  with pd.option_context('mode.use_inf_as_na', True):\n",
      "/usr/local/lib/python3.10/dist-packages/seaborn/_oldcore.py:1119: FutureWarning: use_inf_as_na option is deprecated and will be removed in a future version. Convert inf values to NaN before operating instead.\n",
      "  with pd.option_context('mode.use_inf_as_na', True):\n"
     ]
    },
    {
     "data": {
      "image/png": "[encoded data removed]",
      "text/plain": [
       "<Figure size 500x200 with 1 Axes>"
      ]
     },
     "metadata": {},
     "output_type": "display_data"
    }
   ],
   "source": [
    "df_combined[\"Month\"]=df_combined[\"TransactionDate\"].dt.to_period(\"M\")\n",
    "monthly_sales=df_combined.groupby(\"Month\")[\"TotalValue\"].sum()\n",
    "monthly_sales\n",
    "plt.figure(figsize=(5,2))\n",
    "sns.lineplot(x=monthly_sales.index.astype(str),y=monthly_sales.values)\n",
    "plt.xticks(rotation=45)\n",
    "plt.xlabel(\"Month\")\n",
    "plt.ylabel(\"Total Revenue\")\n",
    "plt.show()"
   ]
  },
  {
   "cell_type": "markdown",
   "id": "aa6a06c0",
   "metadata": {
    "_cell_guid": "efbc7597-1b79-4836-a365-e964ec6c015c",
    "_uuid": "03009094-6053-4b6e-b26f-a829f17c4be0",
    "collapsed": false,
    "jupyter": {
     "outputs_hidden": false
    },
    "papermill": {
     "duration": 0.015633,
     "end_time": "2025-02-02T12:46:35.219055",
     "exception": false,
     "start_time": "2025-02-02T12:46:35.203422",
     "status": "completed"
    },
    "tags": []
   },
   "source": [
    "# Regional Sales"
   ]
  },
  {
   "cell_type": "code",
   "execution_count": 17,
   "id": "ab78e49d",
   "metadata": {
    "_cell_guid": "94982cdc-37c6-4fe0-a6f7-b3731e0ef0d1",
    "_uuid": "21da833f-1135-4a67-b1f5-636530da045e",
    "collapsed": false,
    "execution": {
     "iopub.execute_input": "2025-02-02T12:46:35.252163Z",
     "iopub.status.busy": "2025-02-02T12:46:35.251766Z",
     "iopub.status.idle": "2025-02-02T12:46:35.487180Z",
     "shell.execute_reply": "2025-02-02T12:46:35.485983Z"
    },
    "jupyter": {
     "outputs_hidden": false
    },
    "papermill": {
     "duration": 0.254264,
     "end_time": "2025-02-02T12:46:35.489194",
     "exception": false,
     "start_time": "2025-02-02T12:46:35.234930",
     "status": "completed"
    },
    "tags": []
   },
   "outputs": [
    {
     "data": {
      "image/png": "[encoded data removed]",
      "text/plain": [
       "<Figure size 600x200 with 1 Axes>"
      ]
     },
     "metadata": {},
     "output_type": "display_data"
    }
   ],
   "source": [
    "regional_sales=df_combined.groupby(\"Region\")[\"TotalValue\"].sum()\n",
    "plt.figure(figsize=(6,2))\n",
    "sns.barplot(x=regional_sales.index, y=regional_sales.values)\n",
    "plt.xlabel(\"Region\")\n",
    "plt.ylabel(\"Total Revenue\")\n",
    "plt.show()"
   ]
  },
  {
   "cell_type": "markdown",
   "id": "6483c1b6",
   "metadata": {
    "_cell_guid": "8989f2b2-6986-4700-945c-3aa922e702c0",
    "_uuid": "758679cd-979f-4fd1-8c31-eb4b99d44c28",
    "collapsed": false,
    "jupyter": {
     "outputs_hidden": false
    },
    "papermill": {
     "duration": 0.015844,
     "end_time": "2025-02-02T12:46:35.521987",
     "exception": false,
     "start_time": "2025-02-02T12:46:35.506143",
     "status": "completed"
    },
    "tags": []
   },
   "source": [
    "# Average order value"
   ]
  },
  {
   "cell_type": "code",
   "execution_count": 18,
   "id": "e91ba786",
   "metadata": {
    "_cell_guid": "33634649-3527-4a61-849f-99adf52af0f6",
    "_uuid": "7f0d850a-35be-48f9-8bee-7ae10b404b70",
    "collapsed": false,
    "execution": {
     "iopub.execute_input": "2025-02-02T12:46:35.556916Z",
     "iopub.status.busy": "2025-02-02T12:46:35.556532Z",
     "iopub.status.idle": "2025-02-02T12:46:35.689249Z",
     "shell.execute_reply": "2025-02-02T12:46:35.688070Z"
    },
    "jupyter": {
     "outputs_hidden": false
    },
    "papermill": {
     "duration": 0.152361,
     "end_time": "2025-02-02T12:46:35.691145",
     "exception": false,
     "start_time": "2025-02-02T12:46:35.538784",
     "status": "completed"
    },
    "tags": []
   },
   "outputs": [
    {
     "data": {
      "image/png": "[encoded data removed]",
      "text/plain": [
       "<Figure size 600x200 with 1 Axes>"
      ]
     },
     "metadata": {},
     "output_type": "display_data"
    }
   ],
   "source": [
    "AOV_region = df_combined.groupby(\"Region\")[\"TotalValue\"].mean().sort_values(ascending=False)\n",
    "plt.figure(figsize=(6,2))\n",
    "sns.barplot(x=AOV_region.index, y=AOV_region.values)\n",
    "plt.xlabel(\"Region\")\n",
    "plt.ylabel(\"Average order value\")\n",
    "plt.show()"
   ]
  },
  {
   "cell_type": "markdown",
   "id": "22c37249",
   "metadata": {
    "_cell_guid": "61487267-1dca-495f-84cb-f3c7d4a73894",
    "_uuid": "70841aa1-6f64-4361-9c4c-bf0b2a57ad4a",
    "collapsed": false,
    "execution": {
     "iopub.execute_input": "2025-01-30T09:51:31.596008Z",
     "iopub.status.busy": "2025-01-30T09:51:31.595636Z",
     "iopub.status.idle": "2025-01-30T09:51:34.806176Z",
     "shell.execute_reply": "2025-01-30T09:51:34.804990Z",
     "shell.execute_reply.started": "2025-01-30T09:51:31.595978Z"
    },
    "jupyter": {
     "outputs_hidden": false
    },
    "papermill": {
     "duration": 0.017284,
     "end_time": "2025-02-02T12:46:35.725815",
     "exception": false,
     "start_time": "2025-02-02T12:46:35.708531",
     "status": "completed"
    },
    "tags": []
   },
   "source": [
    "# Price Distribution of Products"
   ]
  },
  {
   "cell_type": "code",
   "execution_count": 19,
   "id": "387d6ff9",
   "metadata": {
    "_cell_guid": "d87c3a7c-8356-45ce-9c30-fd6e9357cd20",
    "_uuid": "7aa6ca3b-0e61-4100-b2ca-9eb1fd264fd0",
    "collapsed": false,
    "execution": {
     "iopub.execute_input": "2025-02-02T12:46:35.760938Z",
     "iopub.status.busy": "2025-02-02T12:46:35.760535Z",
     "iopub.status.idle": "2025-02-02T12:46:35.965642Z",
     "shell.execute_reply": "2025-02-02T12:46:35.964535Z"
    },
    "jupyter": {
     "outputs_hidden": false
    },
    "papermill": {
     "duration": 0.225049,
     "end_time": "2025-02-02T12:46:35.967675",
     "exception": false,
     "start_time": "2025-02-02T12:46:35.742626",
     "status": "completed"
    },
    "tags": []
   },
   "outputs": [
    {
     "data": {
      "image/png": "[encoded data removed]",
      "text/plain": [
       "<Figure size 800x500 with 1 Axes>"
      ]
     },
     "metadata": {},
     "output_type": "display_data"
    }
   ],
   "source": [
    "plt.figure(figsize=(8, 5))\n",
    "sns.boxplot(y=products[\"Price\"],x=products[\"Category\"])\n",
    "plt.ylabel(\"Price\")\n",
    "plt.title(\"Price Distribution of Products\")\n",
    "plt.show()"
   ]
  },
  {
   "cell_type": "markdown",
   "id": "ac43d2d9",
   "metadata": {
    "_cell_guid": "945f2c3c-60d7-462f-941b-e78e0c2b1d27",
    "_uuid": "ccd212ed-4409-4867-9740-0d0c79fa373b",
    "collapsed": false,
    "jupyter": {
     "outputs_hidden": false
    },
    "papermill": {
     "duration": 0.016972,
     "end_time": "2025-02-02T12:46:36.001835",
     "exception": false,
     "start_time": "2025-02-02T12:46:35.984863",
     "status": "completed"
    },
    "tags": []
   },
   "source": [
    "# Important customers"
   ]
  },
  {
   "cell_type": "code",
   "execution_count": 20,
   "id": "6a24db1f",
   "metadata": {
    "_cell_guid": "3b23a148-5cf3-4329-a0d1-dd62f70822ad",
    "_uuid": "c115784e-bb83-4faf-9e79-91da0cc1d58a",
    "collapsed": false,
    "execution": {
     "iopub.execute_input": "2025-02-02T12:46:36.037991Z",
     "iopub.status.busy": "2025-02-02T12:46:36.037549Z",
     "iopub.status.idle": "2025-02-02T12:46:36.048079Z",
     "shell.execute_reply": "2025-02-02T12:46:36.046600Z"
    },
    "jupyter": {
     "outputs_hidden": false
    },
    "papermill": {
     "duration": 0.031208,
     "end_time": "2025-02-02T12:46:36.050152",
     "exception": false,
     "start_time": "2025-02-02T12:46:36.018944",
     "status": "completed"
    },
    "tags": []
   },
   "outputs": [
    {
     "name": "stdout",
     "output_type": "stream",
     "text": [
      "Top 10 Customers by Revenue:\n",
      "CustomerID\n",
      "C0141    10673.87\n",
      "C0054     8040.39\n",
      "C0065     7663.70\n",
      "C0156     7634.45\n",
      "C0082     7572.91\n",
      "C0188     7111.32\n",
      "C0059     7073.28\n",
      "C0028     6819.57\n",
      "C0099     6715.72\n",
      "C0165     6708.10\n",
      "Name: TotalValue, dtype: float64\n"
     ]
    }
   ],
   "source": [
    "top_10_customers_revenue=df_combined.groupby(\"CustomerID\")[\"TotalValue\"].sum().nlargest(10)\n",
    "print(\"Top 10 Customers by Revenue:\")\n",
    "print(top_10_customers_revenue)"
   ]
  },
  {
   "cell_type": "code",
   "execution_count": 21,
   "id": "0b02157a",
   "metadata": {
    "_cell_guid": "a35e8c61-d68e-4735-9743-06757677f2d1",
    "_uuid": "532838f1-8534-478b-96c8-840580c2f3cd",
    "collapsed": false,
    "execution": {
     "iopub.execute_input": "2025-02-02T12:46:36.086374Z",
     "iopub.status.busy": "2025-02-02T12:46:36.085997Z",
     "iopub.status.idle": "2025-02-02T12:46:36.109461Z",
     "shell.execute_reply": "2025-02-02T12:46:36.107947Z"
    },
    "jupyter": {
     "outputs_hidden": false
    },
    "papermill": {
     "duration": 0.044274,
     "end_time": "2025-02-02T12:46:36.111933",
     "exception": false,
     "start_time": "2025-02-02T12:46:36.067659",
     "status": "completed"
    },
    "tags": []
   },
   "outputs": [
    {
     "name": "stdout",
     "output_type": "stream",
     "text": [
      "Products with Unusual Prices:\n",
      "On lower side\n"
     ]
    },
    {
     "data": {
      "text/html": [
       "<div>\n",
       "<style scoped>\n",
       "    .dataframe tbody tr th:only-of-type {\n",
       "        vertical-align: middle;\n",
       "    }\n",
       "\n",
       "    .dataframe tbody tr th {\n",
       "        vertical-align: top;\n",
       "    }\n",
       "\n",
       "    .dataframe thead th {\n",
       "        text-align: right;\n",
       "    }\n",
       "</style>\n",
       "<table border=\"1\" class=\"dataframe\">\n",
       "  <thead>\n",
       "    <tr style=\"text-align: right;\">\n",
       "      <th></th>\n",
       "      <th>ProductID</th>\n",
       "      <th>ProductName</th>\n",
       "      <th>Category</th>\n",
       "      <th>Price</th>\n",
       "    </tr>\n",
       "  </thead>\n",
       "  <tbody>\n",
       "    <tr>\n",
       "      <th>13</th>\n",
       "      <td>P014</td>\n",
       "      <td>ActiveWear Jacket</td>\n",
       "      <td>Clothing</td>\n",
       "      <td>26.26</td>\n",
       "    </tr>\n",
       "    <tr>\n",
       "      <th>34</th>\n",
       "      <td>P035</td>\n",
       "      <td>ActiveWear T-Shirt</td>\n",
       "      <td>Clothing</td>\n",
       "      <td>30.59</td>\n",
       "    </tr>\n",
       "    <tr>\n",
       "      <th>43</th>\n",
       "      <td>P044</td>\n",
       "      <td>ActiveWear Running Shoes</td>\n",
       "      <td>Clothing</td>\n",
       "      <td>18.82</td>\n",
       "    </tr>\n",
       "    <tr>\n",
       "      <th>55</th>\n",
       "      <td>P056</td>\n",
       "      <td>SoundWave Smartwatch</td>\n",
       "      <td>Electronics</td>\n",
       "      <td>16.08</td>\n",
       "    </tr>\n",
       "    <tr>\n",
       "      <th>72</th>\n",
       "      <td>P073</td>\n",
       "      <td>ComfortLiving Laptop</td>\n",
       "      <td>Electronics</td>\n",
       "      <td>26.99</td>\n",
       "    </tr>\n",
       "  </tbody>\n",
       "</table>\n",
       "</div>"
      ],
      "text/plain": [
       "   ProductID               ProductName     Category  Price\n",
       "13      P014         ActiveWear Jacket     Clothing  26.26\n",
       "34      P035        ActiveWear T-Shirt     Clothing  30.59\n",
       "43      P044  ActiveWear Running Shoes     Clothing  18.82\n",
       "55      P056      SoundWave Smartwatch  Electronics  16.08\n",
       "72      P073      ComfortLiving Laptop  Electronics  26.99"
      ]
     },
     "metadata": {},
     "output_type": "display_data"
    },
    {
     "name": "stdout",
     "output_type": "stream",
     "text": [
      "On higher side\n"
     ]
    },
    {
     "data": {
      "text/html": [
       "<div>\n",
       "<style scoped>\n",
       "    .dataframe tbody tr th:only-of-type {\n",
       "        vertical-align: middle;\n",
       "    }\n",
       "\n",
       "    .dataframe tbody tr th {\n",
       "        vertical-align: top;\n",
       "    }\n",
       "\n",
       "    .dataframe thead th {\n",
       "        text-align: right;\n",
       "    }\n",
       "</style>\n",
       "<table border=\"1\" class=\"dataframe\">\n",
       "  <thead>\n",
       "    <tr style=\"text-align: right;\">\n",
       "      <th></th>\n",
       "      <th>ProductID</th>\n",
       "      <th>ProductName</th>\n",
       "      <th>Category</th>\n",
       "      <th>Price</th>\n",
       "    </tr>\n",
       "  </thead>\n",
       "  <tbody>\n",
       "    <tr>\n",
       "      <th>16</th>\n",
       "      <td>P017</td>\n",
       "      <td>ActiveWear Textbook</td>\n",
       "      <td>Books</td>\n",
       "      <td>469.77</td>\n",
       "    </tr>\n",
       "    <tr>\n",
       "      <th>31</th>\n",
       "      <td>P032</td>\n",
       "      <td>BookWorld Cookbook</td>\n",
       "      <td>Books</td>\n",
       "      <td>488.63</td>\n",
       "    </tr>\n",
       "    <tr>\n",
       "      <th>36</th>\n",
       "      <td>P037</td>\n",
       "      <td>SoundWave Smartwatch</td>\n",
       "      <td>Electronics</td>\n",
       "      <td>459.86</td>\n",
       "    </tr>\n",
       "    <tr>\n",
       "      <th>44</th>\n",
       "      <td>P045</td>\n",
       "      <td>SoundWave T-Shirt</td>\n",
       "      <td>Clothing</td>\n",
       "      <td>481.78</td>\n",
       "    </tr>\n",
       "    <tr>\n",
       "      <th>74</th>\n",
       "      <td>P075</td>\n",
       "      <td>TechPro Textbook</td>\n",
       "      <td>Books</td>\n",
       "      <td>497.76</td>\n",
       "    </tr>\n",
       "  </tbody>\n",
       "</table>\n",
       "</div>"
      ],
      "text/plain": [
       "   ProductID           ProductName     Category   Price\n",
       "16      P017   ActiveWear Textbook        Books  469.77\n",
       "31      P032    BookWorld Cookbook        Books  488.63\n",
       "36      P037  SoundWave Smartwatch  Electronics  459.86\n",
       "44      P045     SoundWave T-Shirt     Clothing  481.78\n",
       "74      P075      TechPro Textbook        Books  497.76"
      ]
     },
     "metadata": {},
     "output_type": "display_data"
    }
   ],
   "source": [
    "print(\"Products with Unusual Prices:\")\n",
    "print(\"On lower side\")\n",
    "display(products[products[\"Price\"] < products[\"Price\"].quantile(0.05)])\n",
    "print(\"On higher side\")\n",
    "display(products[products[\"Price\"] > products[\"Price\"].quantile(0.95)])"
   ]
  },
  {
   "cell_type": "code",
   "execution_count": 22,
   "id": "3bcd7d5c",
   "metadata": {
    "execution": {
     "iopub.execute_input": "2025-02-02T12:46:36.148490Z",
     "iopub.status.busy": "2025-02-02T12:46:36.148076Z",
     "iopub.status.idle": "2025-02-02T12:46:36.188072Z",
     "shell.execute_reply": "2025-02-02T12:46:36.186977Z"
    },
    "papermill": {
     "duration": 0.060068,
     "end_time": "2025-02-02T12:46:36.190117",
     "exception": false,
     "start_time": "2025-02-02T12:46:36.130049",
     "status": "completed"
    },
    "tags": []
   },
   "outputs": [
    {
     "data": {
      "text/html": [
       "<div>\n",
       "<style scoped>\n",
       "    .dataframe tbody tr th:only-of-type {\n",
       "        vertical-align: middle;\n",
       "    }\n",
       "\n",
       "    .dataframe tbody tr th {\n",
       "        vertical-align: top;\n",
       "    }\n",
       "\n",
       "    .dataframe thead th {\n",
       "        text-align: right;\n",
       "    }\n",
       "</style>\n",
       "<table border=\"1\" class=\"dataframe\">\n",
       "  <thead>\n",
       "    <tr style=\"text-align: right;\">\n",
       "      <th></th>\n",
       "      <th>Recency</th>\n",
       "      <th>Frequency</th>\n",
       "      <th>Moneaatary</th>\n",
       "    </tr>\n",
       "  </thead>\n",
       "  <tbody>\n",
       "    <tr>\n",
       "      <th>count</th>\n",
       "      <td>199.000000</td>\n",
       "      <td>199.000000</td>\n",
       "      <td>199.000000</td>\n",
       "    </tr>\n",
       "    <tr>\n",
       "      <th>mean</th>\n",
       "      <td>73.889447</td>\n",
       "      <td>5.025126</td>\n",
       "      <td>1369.618442</td>\n",
       "    </tr>\n",
       "    <tr>\n",
       "      <th>std</th>\n",
       "      <td>70.943268</td>\n",
       "      <td>2.198340</td>\n",
       "      <td>663.369301</td>\n",
       "    </tr>\n",
       "    <tr>\n",
       "      <th>min</th>\n",
       "      <td>0.000000</td>\n",
       "      <td>1.000000</td>\n",
       "      <td>41.180000</td>\n",
       "    </tr>\n",
       "    <tr>\n",
       "      <th>25%</th>\n",
       "      <td>17.000000</td>\n",
       "      <td>3.000000</td>\n",
       "      <td>895.375000</td>\n",
       "    </tr>\n",
       "    <tr>\n",
       "      <th>50%</th>\n",
       "      <td>59.000000</td>\n",
       "      <td>5.000000</td>\n",
       "      <td>1301.100000</td>\n",
       "    </tr>\n",
       "    <tr>\n",
       "      <th>75%</th>\n",
       "      <td>104.000000</td>\n",
       "      <td>6.000000</td>\n",
       "      <td>1810.280000</td>\n",
       "    </tr>\n",
       "    <tr>\n",
       "      <th>max</th>\n",
       "      <td>360.000000</td>\n",
       "      <td>11.000000</td>\n",
       "      <td>3857.060000</td>\n",
       "    </tr>\n",
       "  </tbody>\n",
       "</table>\n",
       "</div>"
      ],
      "text/plain": [
       "          Recency   Frequency   Moneaatary\n",
       "count  199.000000  199.000000   199.000000\n",
       "mean    73.889447    5.025126  1369.618442\n",
       "std     70.943268    2.198340   663.369301\n",
       "min      0.000000    1.000000    41.180000\n",
       "25%     17.000000    3.000000   895.375000\n",
       "50%     59.000000    5.000000  1301.100000\n",
       "75%    104.000000    6.000000  1810.280000\n",
       "max    360.000000   11.000000  3857.060000"
      ]
     },
     "execution_count": 22,
     "metadata": {},
     "output_type": "execute_result"
    }
   ],
   "source": [
    "import datetime\n",
    "current_date = df_combined[\"TransactionDate\"].max()\n",
    "rfm = df_combined.groupby(\"CustomerID\").agg({\n",
    "    \"TransactionDate\":lambda x:(current_date-x.max()).days, \n",
    "    \"CustomerID\":\"count\",  \n",
    "    \"Price\":\"sum\"\n",
    "})\n",
    "rfm.columns=[\"Recency\", \"Frequency\",\"Moneaatary\"]\n",
    "(rfm.describe())\n"
   ]
  },
  {
   "cell_type": "code",
   "execution_count": 23,
   "id": "bbfe5466",
   "metadata": {
    "execution": {
     "iopub.execute_input": "2025-02-02T12:46:36.227668Z",
     "iopub.status.busy": "2025-02-02T12:46:36.227273Z",
     "iopub.status.idle": "2025-02-02T12:46:36.233565Z",
     "shell.execute_reply": "2025-02-02T12:46:36.232304Z"
    },
    "papermill": {
     "duration": 0.027308,
     "end_time": "2025-02-02T12:46:36.235564",
     "exception": false,
     "start_time": "2025-02-02T12:46:36.208256",
     "status": "completed"
    },
    "tags": []
   },
   "outputs": [
    {
     "name": "stdout",
     "output_type": "stream",
     "text": [
      "['ComfortLiving Bluetooth Speaker' 'HomeSense T-Shirt'\n",
      " 'ActiveWear Smartphone' 'TechPro Textbook' 'TechPro Running Shoes'\n",
      " 'TechPro Rug' 'ActiveWear Cookware Set' 'BookWorld Biography'\n",
      " 'BookWorld Cookware Set' 'HomeSense Novel' 'ComfortLiving Smartphone'\n",
      " 'SoundWave Cookbook' 'ComfortLiving Smartwatch' 'SoundWave Mystery Book'\n",
      " 'TechPro Vase' 'HomeSense Desk Lamp' 'ActiveWear Wall Art'\n",
      " 'ComfortLiving Biography' 'ComfortLiving Desk Lamp' 'SoundWave Novel'\n",
      " 'ComfortLiving Cookware Set' 'TechPro Novel' 'BookWorld Running Shoes'\n",
      " 'ActiveWear Jeans' 'BookWorld Jacket' 'BookWorld Smartwatch'\n",
      " 'ActiveWear Textbook' 'ActiveWear Smartwatch' 'ActiveWear Cookbook'\n",
      " 'SoundWave Headphones' 'HomeSense Rug' 'HomeSense Sweater'\n",
      " 'TechPro Smartwatch' 'ActiveWear Running Shoes' 'HomeSense Wall Art'\n",
      " 'SoundWave Rug' 'ActiveWear Headphones' 'SoundWave Jeans'\n",
      " 'SoundWave Desk Lamp' 'BookWorld Cookbook' 'BookWorld Wall Art'\n",
      " 'TechPro Cookbook' 'SoundWave Jacket' 'BookWorld Sweater'\n",
      " 'HomeSense Bluetooth Speaker' 'SoundWave Textbook' 'HomeSense Headphones'\n",
      " 'ActiveWear Biography' 'ComfortLiving Laptop' 'ActiveWear Rug'\n",
      " 'HomeSense Running Shoes' 'ComfortLiving Mystery Book'\n",
      " 'ActiveWear T-Shirt' 'TechPro T-Shirt' 'ActiveWear Jacket'\n",
      " 'BookWorld Rug' 'TechPro Headphones' 'ComfortLiving Sweater'\n",
      " 'SoundWave Smartwatch' 'ComfortLiving Rug' 'ComfortLiving Headphones'\n",
      " 'HomeSense Cookware Set' 'BookWorld Bluetooth Speaker' 'SoundWave Laptop'\n",
      " 'SoundWave Bluetooth Speaker' 'SoundWave T-Shirt']\n"
     ]
    }
   ],
   "source": [
    "print(df_combined[\"ProductName\"].unique())"
   ]
  },
  {
   "cell_type": "code",
   "execution_count": 24,
   "id": "69de291f",
   "metadata": {
    "execution": {
     "iopub.execute_input": "2025-02-02T12:46:36.273491Z",
     "iopub.status.busy": "2025-02-02T12:46:36.273077Z",
     "iopub.status.idle": "2025-02-02T12:46:36.285302Z",
     "shell.execute_reply": "2025-02-02T12:46:36.284292Z"
    },
    "papermill": {
     "duration": 0.032697,
     "end_time": "2025-02-02T12:46:36.286973",
     "exception": false,
     "start_time": "2025-02-02T12:46:36.254276",
     "status": "completed"
    },
    "tags": []
   },
   "outputs": [
    {
     "name": "stdout",
     "output_type": "stream",
     "text": [
      "CompanyName\n",
      "ActiveWear       231\n",
      "SoundWave        210\n",
      "TechPro          156\n",
      "HomeSense        152\n",
      "BookWorld        132\n",
      "ComfortLiving    119\n",
      "Name: count, dtype: int64\n"
     ]
    }
   ],
   "source": [
    "df_combined[\"CompanyName\"]=df_combined[\"ProductName\"].str.split().str[0]\n",
    "df_combined[\"ProductType\"]=df_combined[\"ProductName\"].str.split().str[1:].str.join(\" \")\n",
    "print(df_combined[\"CompanyName\"].value_counts())"
   ]
  },
  {
   "cell_type": "markdown",
   "id": "3481e1dc",
   "metadata": {
    "papermill": {
     "duration": 0.017456,
     "end_time": "2025-02-02T12:46:36.322573",
     "exception": false,
     "start_time": "2025-02-02T12:46:36.305117",
     "status": "completed"
    },
    "tags": []
   },
   "source": [
    "# Most Common Products"
   ]
  },
  {
   "cell_type": "code",
   "execution_count": 25,
   "id": "e665e6ec",
   "metadata": {
    "execution": {
     "iopub.execute_input": "2025-02-02T12:46:36.359497Z",
     "iopub.status.busy": "2025-02-02T12:46:36.359062Z",
     "iopub.status.idle": "2025-02-02T12:46:36.627839Z",
     "shell.execute_reply": "2025-02-02T12:46:36.626666Z"
    },
    "papermill": {
     "duration": 0.289322,
     "end_time": "2025-02-02T12:46:36.629708",
     "exception": false,
     "start_time": "2025-02-02T12:46:36.340386",
     "status": "completed"
    },
    "tags": []
   },
   "outputs": [
    {
     "data": {
      "image/png": "[encoded data removed]",
      "text/plain": [
       "<Figure size 600x500 with 1 Axes>"
      ]
     },
     "metadata": {},
     "output_type": "display_data"
    }
   ],
   "source": [
    "top_n_cnt=15\n",
    "top_product_types= df_combined.groupby(\"ProductType\")[\"Quantity\"].sum().sort_values(ascending=False).head(top_n_cnt)\n",
    "plt.figure(figsize=(6,top_n_cnt / 3))\n",
    "sns.barplot(x=top_product_types.values,y=top_product_types.index,color=\"green\")\n",
    "plt.xlabel(\"Quantity Sold\")\n",
    "plt.ylabel(\"Product Type\")\n",
    "plt.title(f\"Top {top_n_cnt} Best-Selling Product Types\")\n",
    "plt.show()"
   ]
  },
  {
   "cell_type": "markdown",
   "id": "cb210879",
   "metadata": {
    "execution": {
     "iopub.execute_input": "2025-02-02T12:17:12.981984Z",
     "iopub.status.busy": "2025-02-02T12:17:12.981603Z",
     "iopub.status.idle": "2025-02-02T12:17:13.423930Z",
     "shell.execute_reply": "2025-02-02T12:17:13.423099Z",
     "shell.execute_reply.started": "2025-02-02T12:17:12.981952Z"
    },
    "papermill": {
     "duration": 0.018092,
     "end_time": "2025-02-02T12:46:36.666683",
     "exception": false,
     "start_time": "2025-02-02T12:46:36.648591",
     "status": "completed"
    },
    "tags": []
   },
   "source": [
    "# Get top-selling Companies"
   ]
  },
  {
   "cell_type": "code",
   "execution_count": 26,
   "id": "38a8aac8",
   "metadata": {
    "execution": {
     "iopub.execute_input": "2025-02-02T12:46:36.705004Z",
     "iopub.status.busy": "2025-02-02T12:46:36.704662Z",
     "iopub.status.idle": "2025-02-02T12:46:36.899570Z",
     "shell.execute_reply": "2025-02-02T12:46:36.898320Z"
    },
    "papermill": {
     "duration": 0.216797,
     "end_time": "2025-02-02T12:46:36.901797",
     "exception": false,
     "start_time": "2025-02-02T12:46:36.685000",
     "status": "completed"
    },
    "tags": []
   },
   "outputs": [
    {
     "data": {
      "image/png": "[encoded data removed]",
      "text/plain": [
       "<Figure size 600x500 with 1 Axes>"
      ]
     },
     "metadata": {},
     "output_type": "display_data"
    }
   ],
   "source": [
    "top_companies = df_combined.groupby(\"CompanyName\")[\"Quantity\"].sum().sort_values(ascending=False)\n",
    "plt.figure(figsize=(6,top_n_cnt/3))\n",
    "sns.barplot(x=top_companies.values,y=top_companies.index,color=\"green\")\n",
    "plt.xlabel(\"Quantity Sold\")\n",
    "plt.ylabel(\"Company Name\")\n",
    "plt.title(f\"Top Best-Selling Companies\")\n",
    "plt.show()"
   ]
  },
  {
   "cell_type": "markdown",
   "id": "669795af",
   "metadata": {
    "papermill": {
     "duration": 0.019146,
     "end_time": "2025-02-02T12:46:36.940576",
     "exception": false,
     "start_time": "2025-02-02T12:46:36.921430",
     "status": "completed"
    },
    "tags": []
   },
   "source": [
    "# Company wise Category"
   ]
  },
  {
   "cell_type": "code",
   "execution_count": 27,
   "id": "ea9005cb",
   "metadata": {
    "execution": {
     "iopub.execute_input": "2025-02-02T12:46:36.982353Z",
     "iopub.status.busy": "2025-02-02T12:46:36.982005Z",
     "iopub.status.idle": "2025-02-02T12:46:37.343179Z",
     "shell.execute_reply": "2025-02-02T12:46:37.341994Z"
    },
    "papermill": {
     "duration": 0.383541,
     "end_time": "2025-02-02T12:46:37.345019",
     "exception": false,
     "start_time": "2025-02-02T12:46:36.961478",
     "status": "completed"
    },
    "tags": []
   },
   "outputs": [
    {
     "data": {
      "image/png": "[encoded data removed]",
      "text/plain": [
       "<Figure size 1200x600 with 1 Axes>"
      ]
     },
     "metadata": {},
     "output_type": "display_data"
    }
   ],
   "source": [
    "company_category_sales = df_combined.groupby([\"CompanyName\", \"Category\"])[\"Quantity\"].sum().unstack()\n",
    "company_category_sales.plot(kind=\"bar\",stacked=True, figsize=(12, 6))\n",
    "plt.xlabel(\"Company Name\")\n",
    "plt.ylabel(\"Quantity Sold\")\n",
    "plt.title(\"Sales by Company and Category\")\n",
    "plt.legend(title=\"Category\")\n",
    "plt.xticks(rotation=0)\n",
    "plt.show()\n"
   ]
  },
  {
   "cell_type": "code",
   "execution_count": null,
   "id": "b19e392f",
   "metadata": {
    "papermill": {
     "duration": 0.019437,
     "end_time": "2025-02-02T12:46:37.385279",
     "exception": false,
     "start_time": "2025-02-02T12:46:37.365842",
     "status": "completed"
    },
    "tags": []
   },
   "outputs": [],
   "source": []
  }
 ],
 "metadata": {
  "kaggle": {
   "accelerator": "none",
   "dataSources": [
    {
     "datasetId": 6567141,
     "sourceId": 10608370,
     "sourceType": "datasetVersion"
    }
   ],
   "dockerImageVersionId": 30839,
   "isGpuEnabled": false,
   "isInternetEnabled": true,
   "language": "python",
   "sourceType": "notebook"
  },
  "kernelspec": {
   "display_name": "Python 3",
   "language": "python",
   "name": "python3"
  },
  "language_info": {
   "codemirror_mode": {
    "name": "ipython",
    "version": 3
   },
   "file_extension": ".py",
   "mimetype": "text/x-python",
   "name": "python",
   "nbconvert_exporter": "python",
   "pygments_lexer": "ipython3",
   "version": "3.10.12"
  },
  "papermill": {
   "default_parameters": {},
   "duration": 11.363889,
   "end_time": "2025-02-02T12:46:38.127353",
   "environment_variables": {},
   "exception": null,
   "input_path": "__notebook__.ipynb",
   "output_path": "__notebook__.ipynb",
   "parameters": {},
   "start_time": "2025-02-02T12:46:26.763464",
   "version": "2.6.0"
  }
 },
 "nbformat": 4,
 "nbformat_minor": 5
}
